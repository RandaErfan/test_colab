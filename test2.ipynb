{
  "nbformat": 4,
  "nbformat_minor": 0,
  "metadata": {
    "colab": {
      "name": "test.ipynb",
      "provenance": [],
      "authorship_tag": "ABX9TyOwPAiby1fE5AVb3Z939X1+",
      "include_colab_link": true
    },
    "kernelspec": {
      "name": "python3",
      "display_name": "Python 3"
    },
    "language_info": {
      "name": "python"
    }
  },
  "cells": [
    {
      "cell_type": "markdown",
      "metadata": {
        "id": "view-in-github",
        "colab_type": "text"
      },
      "source": [
        "<a href=\"https://colab.research.google.com/github/RandaErfan/test_colab/blob/main/test2.ipynb\" target=\"_parent\"><img src=\"https://colab.research.google.com/assets/colab-badge.svg\" alt=\"Open In Colab\"/></a>"
      ]
    },
    {
      "cell_type": "code",
      "execution_count": null,
      "metadata": {
        "colab": {
          "base_uri": "https://localhost:8080/"
        },
        "id": "yT8YGxxYJYVV",
        "outputId": "771be445-8a89-4810-b577-0d018c140f13"
      },
      "outputs": [
        {
          "output_type": "stream",
          "name": "stdout",
          "text": [
            "welcome world\n"
          ]
        }
      ],
      "source": [
        "print(\"welcome world\")"
      ]
    },
    {
      "cell_type": "code",
      "source": [
        "print (\"\")"
      ],
      "metadata": {
        "colab": {
          "base_uri": "https://localhost:8080/"
        },
        "id": "vgmY6HrpRze7",
        "outputId": "ec9f542e-df9f-497a-debd-4bdb8fa11b4a"
      },
      "execution_count": null,
      "outputs": [
        {
          "output_type": "stream",
          "name": "stdout",
          "text": [
            "\n"
          ]
        }
      ]
    },
    {
      "cell_type": "code",
      "source": [
        "import numpy as np"
      ],
      "metadata": {
        "id": "-k-6TsRJJfLc"
      },
      "execution_count": null,
      "outputs": []
    },
    {
      "cell_type": "code",
      "source": [
        "##Randa Erfan"
      ],
      "metadata": {
        "id": "LVybWiJBTVKr"
      },
      "execution_count": null,
      "outputs": []
    },
    {
      "cell_type": "code",
      "source": [
        "x=np.array([1,2,2,3,4],dtype='int32')"
      ],
      "metadata": {
        "id": "mNFrD9emQ0_K"
      },
      "execution_count": null,
      "outputs": []
    },
    {
      "cell_type": "code",
      "source": [
        "x1=np.arange(12)"
      ],
      "metadata": {
        "id": "PbQ7TTdfRHjr"
      },
      "execution_count": null,
      "outputs": []
    },
    {
      "cell_type": "code",
      "source": [
        "x1"
      ],
      "metadata": {
        "colab": {
          "base_uri": "https://localhost:8080/"
        },
        "id": "k9LBBfd1RU3K",
        "outputId": "67ce861e-6490-49db-fb3d-1cd344854a99"
      },
      "execution_count": null,
      "outputs": [
        {
          "output_type": "execute_result",
          "data": {
            "text/plain": [
              "array([ 0,  1,  2,  3,  4,  5,  6,  7,  8,  9, 10, 11])"
            ]
          },
          "metadata": {},
          "execution_count": 6
        }
      ]
    },
    {
      "cell_type": "code",
      "source": [
        "x1.reshape(3,4)"
      ],
      "metadata": {
        "colab": {
          "base_uri": "https://localhost:8080/"
        },
        "id": "YHwuLUkbRYpf",
        "outputId": "c20118db-7e3d-4a09-b677-71d719592fd7"
      },
      "execution_count": null,
      "outputs": [
        {
          "output_type": "execute_result",
          "data": {
            "text/plain": [
              "array([[ 0,  1,  2,  3],\n",
              "       [ 4,  5,  6,  7],\n",
              "       [ 8,  9, 10, 11]])"
            ]
          },
          "metadata": {},
          "execution_count": 7
        }
      ]
    },
    {
      "cell_type": "code",
      "source": [
        "x1.reshape(2,6)"
      ],
      "metadata": {
        "colab": {
          "base_uri": "https://localhost:8080/"
        },
        "id": "PTYHqKHcRhdv",
        "outputId": "df52469c-50b3-418f-fd89-9b3b882d25fd"
      },
      "execution_count": null,
      "outputs": [
        {
          "output_type": "execute_result",
          "data": {
            "text/plain": [
              "array([[ 0,  1,  2,  3,  4,  5],\n",
              "       [ 6,  7,  8,  9, 10, 11]])"
            ]
          },
          "metadata": {},
          "execution_count": 8
        }
      ]
    },
    {
      "cell_type": "code",
      "source": [
        "x1.reshape(1,6)"
      ],
      "metadata": {
        "id": "6BF8XDLatZyM"
      },
      "execution_count": null,
      "outputs": []
    },
    {
      "cell_type": "code",
      "source": [
        "y=np.random.random(3,3)"
      ],
      "metadata": {
        "id": "6Bb7dLrSw9fH"
      },
      "execution_count": null,
      "outputs": []
    },
    {
      "cell_type": "code",
      "source": [
        "g=np/random.randient(1,5)"
      ],
      "metadata": {
        "id": "j6tLYvHbxbrS"
      },
      "execution_count": null,
      "outputs": []
    },
    {
      "cell_type": "code",
      "source": [
        "h=np.randon.normal(0,1,(3,4))"
      ],
      "metadata": {
        "id": "tCBpbVJFxP3r"
      },
      "execution_count": null,
      "outputs": []
    },
    {
      "cell_type": "code",
      "source": [
        "i=np.random.randient(0,100,(3,3))"
      ],
      "metadata": {
        "id": "McCWTO9ntOx9"
      },
      "execution_count": null,
      "outputs": []
    },
    {
      "cell_type": "code",
      "source": [
        "j=np.zeros(10,dtype='int32')"
      ],
      "metadata": {
        "id": "BOCPr-9VtAXm"
      },
      "execution_count": null,
      "outputs": []
    },
    {
      "cell_type": "code",
      "source": [
        "k=np.ones((5,3),dtype='int64')"
      ],
      "metadata": {
        "id": "gSJTyU9Bs8zt"
      },
      "execution_count": null,
      "outputs": []
    },
    {
      "cell_type": "code",
      "source": [
        "l=np.array((4,3,5),dtype='float32')"
      ],
      "metadata": {
        "id": "BdC3lBgFsuka"
      },
      "execution_count": null,
      "outputs": []
    },
    {
      "cell_type": "code",
      "source": [
        "m=np.arange(10)=np.arange(0,10)"
      ],
      "metadata": {
        "id": "_CdtNRYeRupx"
      },
      "execution_count": null,
      "outputs": []
    },
    {
      "cell_type": "code",
      "source": [
        "n=np.full((3,4)5,2.68)"
      ],
      "metadata": {
        "id": "Dj2yR9K_RC8M"
      },
      "execution_count": null,
      "outputs": []
    },
    {
      "cell_type": "code",
      "source": [
        "o=np.empty()"
      ],
      "metadata": {
        "id": "JJ0f1Jj_zxb4"
      },
      "execution_count": null,
      "outputs": []
    },
    {
      "cell_type": "code",
      "source": [
        "p=np.eye(3)"
      ],
      "metadata": {
        "id": "HmxUHgSzz-uJ"
      },
      "execution_count": null,
      "outputs": []
    },
    {
      "cell_type": "code",
      "source": [
        "r=np.array[[0,8,7,9,5],\n",
        "           [7,8,7,9,0],\n",
        "           [3,4,5,6,8]]"
      ],
      "metadata": {
        "id": "G-34OJqE0GZS"
      },
      "execution_count": null,
      "outputs": []
    },
    {
      "cell_type": "code",
      "source": [
        "r.dtype"
      ],
      "metadata": {
        "id": "dWECtXIS1UOM"
      },
      "execution_count": null,
      "outputs": []
    },
    {
      "cell_type": "code",
      "source": [
        "r.shape"
      ],
      "metadata": {
        "id": "qcRmLYnw02ny"
      },
      "execution_count": null,
      "outputs": []
    },
    {
      "cell_type": "code",
      "source": [
        "r.size"
      ],
      "metadata": {
        "id": "YO-2tl5M1Cg4"
      },
      "execution_count": null,
      "outputs": []
    },
    {
      "cell_type": "code",
      "source": [
        "r.ndim"
      ],
      "metadata": {
        "id": "juIsyTO11E69"
      },
      "execution_count": null,
      "outputs": []
    },
    {
      "cell_type": "code",
      "source": [
        "x=np.arange(4)"
      ],
      "metadata": {
        "id": "EdEZ5X2-1PKn"
      },
      "execution_count": null,
      "outputs": []
    },
    {
      "cell_type": "code",
      "source": [
        "y=x.reverse()"
      ],
      "metadata": {
        "id": "4qY_b8kN1_aj"
      },
      "execution_count": null,
      "outputs": []
    },
    {
      "cell_type": "code",
      "source": [
        "z=np.concatente(x,y)"
      ],
      "metadata": {
        "id": "BTcD6F9b2GIT"
      },
      "execution_count": null,
      "outputs": []
    },
    {
      "cell_type": "code",
      "source": [
        "c=np.full((2,3),4)"
      ],
      "metadata": {
        "id": "OTc_xmus2StH"
      },
      "execution_count": null,
      "outputs": []
    },
    {
      "cell_type": "code",
      "source": [
        "d=np.full((4,5),9)"
      ],
      "metadata": {
        "id": "eyZQ5W-o2aJA"
      },
      "execution_count": null,
      "outputs": []
    },
    {
      "cell_type": "code",
      "source": [
        "x=[99,99]"
      ],
      "metadata": {
        "id": "BEAjqfwt2gra"
      },
      "execution_count": 33,
      "outputs": []
    },
    {
      "cell_type": "code",
      "source": [
        "y=[77,66]"
      ],
      "metadata": {
        "id": "tw8YqqDO9ORE"
      },
      "execution_count": 34,
      "outputs": []
    },
    {
      "cell_type": "code",
      "source": [
        "d=np.concatenate(axis=0)"
      ],
      "metadata": {
        "id": "NgGCNk9K9SgE"
      },
      "execution_count": null,
      "outputs": []
    },
    {
      "cell_type": "code",
      "source": [
        "e=np.concatenate(axis=1)"
      ],
      "metadata": {
        "id": "sW2mmVRt9eGd"
      },
      "execution_count": null,
      "outputs": []
    },
    {
      "cell_type": "code",
      "source": [
        "x(-1,1)"
      ],
      "metadata": {
        "id": "NxAtX0Iw81Ol"
      },
      "execution_count": null,
      "outputs": []
    },
    {
      "cell_type": "code",
      "source": [
        "c=np.hstack(x,y)"
      ],
      "metadata": {
        "id": "-7u_DN_g7zrh"
      },
      "execution_count": null,
      "outputs": []
    },
    {
      "cell_type": "code",
      "source": [
        "b=np.vstack(x,y)"
      ],
      "metadata": {
        "id": "HRoEGPCc9oh5"
      },
      "execution_count": null,
      "outputs": []
    },
    {
      "cell_type": "code",
      "source": [
        "x=[1,2,3,99,99,3,2,1]"
      ],
      "metadata": {
        "id": "G_VD4jr-9x6d"
      },
      "execution_count": 38,
      "outputs": []
    },
    {
      "cell_type": "code",
      "source": [
        "x1,x2,x3=np.split(x,[3,5])"
      ],
      "metadata": {
        "id": "_4M7yLmi9-gb"
      },
      "execution_count": null,
      "outputs": []
    },
    {
      "cell_type": "code",
      "source": [
        "x1,x2,x3=np.split(x,[2,6])"
      ],
      "metadata": {
        "id": "65gIXoYu-RR4"
      },
      "execution_count": null,
      "outputs": []
    },
    {
      "cell_type": "code",
      "source": [
        "grid=np.arange(16).reshape((4,4))"
      ],
      "metadata": {
        "id": "jsMQZSOz-chN"
      },
      "execution_count": null,
      "outputs": []
    },
    {
      "cell_type": "code",
      "source": [
        "upper,lower=np.vsplit(grid,2)"
      ],
      "metadata": {
        "id": "wPOueGxB-ul6"
      },
      "execution_count": null,
      "outputs": []
    },
    {
      "cell_type": "code",
      "source": [
        "left,right=np.hsplit(grid,3)"
      ],
      "metadata": {
        "id": "oSa4C2xl-JnI"
      },
      "execution_count": null,
      "outputs": []
    },
    {
      "cell_type": "code",
      "source": [
        "upper,miiddle,lower=np.vsplit(grid,2,3)"
      ],
      "metadata": {
        "id": "rQgYM6sC_Mty"
      },
      "execution_count": null,
      "outputs": []
    },
    {
      "cell_type": "code",
      "source": [
        "left,inside,right=np.hsplit(grid,1,3)"
      ],
      "metadata": {
        "id": "f0tFJ-p4_eI7"
      },
      "execution_count": null,
      "outputs": []
    },
    {
      "cell_type": "code",
      "source": [
        ""
      ],
      "metadata": {
        "id": "8M0XWI8__ybA"
      },
      "execution_count": null,
      "outputs": []
    }
  ]
}